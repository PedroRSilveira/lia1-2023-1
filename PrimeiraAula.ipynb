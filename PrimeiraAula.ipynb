{
  "cells": [
    {
      "cell_type": "markdown",
      "id": "c3a05a4b",
      "metadata": {
        "id": "c3a05a4b"
      },
      "source": [
        "<hr style=\"height:10px\"> \n",
        " \n",
        "<div class='container2'>\n",
        "\t\t<div>\n",
        "\t\t\t<img src='https://cdn.computerhoy.com/sites/navi.axelspringer.es/public/media/image/2023/04/raspberry-lanza-editor-codigo-aprender-python-lenguaje-ia-3008158.jpg' ALIGN='left' style='width:10em'>\n",
        "\t\t</div>\t\n",
        "\t<div style='padding: 0 7em 2em 12em;'>\n",
        "\t<h1>Laboratório de Inovação e Automação 1 (LIA 1)</h1>\n",
        "\t<div style=\"font-size:12pt;float:left;\"> 2023/1 | 46M34 | Sala 200 CAE</div><br><br>\n",
        "    <div style=\"font-size:12pt;float:left;\"><b>Projetos de Inteligência Artificial</b></div>\n",
        "\t</div>\n",
        "</div>\n",
        "\n",
        "\n",
        " <hr style=\"height:5px\"> \n",
        "\n",
        "    \n",
        "<h2>Introdução ao Ambiente de Projetos</h2>\n",
        "\n",
        "Notebook desenvolvido por: <a href=\"https://www.linkedin.com/in/pedro-rodrigues-silveira/\">Pedro Rodrigues Silveira</a>\n",
        "\n",
        " <hr style=\"height:2px\"> "
      ]
    },
    {
      "cell_type": "code",
      "execution_count": null,
      "id": "b78707b3",
      "metadata": {
        "scrolled": true,
        "colab": {
          "base_uri": "https://localhost:8080/"
        },
        "id": "b78707b3",
        "outputId": "1d4d1179-79a0-4a9e-ce90-a7413361603d"
      },
      "outputs": [
        {
          "output_type": "stream",
          "name": "stdout",
          "text": [
            "A versão em uso é 3.10.11\n"
          ]
        }
      ],
      "source": [
        "#Confirmar a versão da Linguagem Python instalada\n",
        "\n",
        "from platform import python_version\n",
        "\n",
        "print(f'A versão em uso é {python_version()}')"
      ]
    },
    {
      "cell_type": "markdown",
      "id": "5fc6e04d",
      "metadata": {
        "id": "5fc6e04d"
      },
      "source": [
        "# Operadores Aritméticos"
      ]
    },
    {
      "cell_type": "code",
      "execution_count": null,
      "id": "eb6ee99a",
      "metadata": {
        "colab": {
          "base_uri": "https://localhost:8080/"
        },
        "id": "eb6ee99a",
        "outputId": "5749778d-cb48-44ce-89d8-10bf5d046190"
      },
      "outputs": [
        {
          "output_type": "execute_result",
          "data": {
            "text/plain": [
              "2"
            ]
          },
          "metadata": {},
          "execution_count": 24
        }
      ],
      "source": [
        "#Adição\n",
        "\n",
        "1+1"
      ]
    },
    {
      "cell_type": "code",
      "execution_count": null,
      "id": "767574a6",
      "metadata": {
        "colab": {
          "base_uri": "https://localhost:8080/"
        },
        "id": "767574a6",
        "outputId": "fa279790-d047-4ff6-d15c-d9165875e5a9"
      },
      "outputs": [
        {
          "output_type": "execute_result",
          "data": {
            "text/plain": [
              "1"
            ]
          },
          "metadata": {},
          "execution_count": 25
        }
      ],
      "source": [
        "#Subtração\n",
        "\n",
        "2-1"
      ]
    },
    {
      "cell_type": "code",
      "execution_count": null,
      "id": "f07931be",
      "metadata": {
        "colab": {
          "base_uri": "https://localhost:8080/"
        },
        "id": "f07931be",
        "outputId": "151abd95-1eed-4b50-fff1-d18d67f86a51"
      },
      "outputs": [
        {
          "output_type": "execute_result",
          "data": {
            "text/plain": [
              "4"
            ]
          },
          "metadata": {},
          "execution_count": 26
        }
      ],
      "source": [
        "#Multiplicação\n",
        "\n",
        "2*2"
      ]
    },
    {
      "cell_type": "code",
      "execution_count": null,
      "id": "95b13a2d",
      "metadata": {
        "colab": {
          "base_uri": "https://localhost:8080/"
        },
        "id": "95b13a2d",
        "outputId": "9cec2565-bc02-4679-e88e-b69285250011"
      },
      "outputs": [
        {
          "output_type": "execute_result",
          "data": {
            "text/plain": [
              "1.5"
            ]
          },
          "metadata": {},
          "execution_count": 27
        }
      ],
      "source": [
        "#Divisão\n",
        "\n",
        "3/2"
      ]
    },
    {
      "cell_type": "code",
      "execution_count": null,
      "id": "2a9a9978",
      "metadata": {
        "colab": {
          "base_uri": "https://localhost:8080/"
        },
        "id": "2a9a9978",
        "outputId": "16bb11ba-0ab2-4f10-b0e6-85abd137daab"
      },
      "outputs": [
        {
          "output_type": "execute_result",
          "data": {
            "text/plain": [
              "16"
            ]
          },
          "metadata": {},
          "execution_count": 28
        }
      ],
      "source": [
        "#Potência\n",
        "\n",
        "4**2"
      ]
    },
    {
      "cell_type": "code",
      "execution_count": null,
      "id": "3a518915",
      "metadata": {
        "colab": {
          "base_uri": "https://localhost:8080/"
        },
        "id": "3a518915",
        "outputId": "f4bb84e8-f922-43bc-e1e2-7e3e72d48a52"
      },
      "outputs": [
        {
          "output_type": "execute_result",
          "data": {
            "text/plain": [
              "1"
            ]
          },
          "metadata": {},
          "execution_count": 29
        }
      ],
      "source": [
        "#Módulo (resto da divisão)\n",
        "\n",
        "10%3"
      ]
    },
    {
      "cell_type": "markdown",
      "id": "9c3895da",
      "metadata": {
        "id": "9c3895da"
      },
      "source": [
        "# Tipos de Dados (Type)"
      ]
    },
    {
      "cell_type": "code",
      "execution_count": null,
      "id": "22f4c818",
      "metadata": {
        "colab": {
          "base_uri": "https://localhost:8080/"
        },
        "id": "22f4c818",
        "outputId": "32ede5f0-5098-4543-93e9-2767fc323872"
      },
      "outputs": [
        {
          "output_type": "execute_result",
          "data": {
            "text/plain": [
              "int"
            ]
          },
          "metadata": {},
          "execution_count": 30
        }
      ],
      "source": [
        "#Qual é o tipo do (?) -> Inteiro\n",
        "\n",
        "type(5)"
      ]
    },
    {
      "cell_type": "code",
      "execution_count": null,
      "id": "73dd3467",
      "metadata": {
        "colab": {
          "base_uri": "https://localhost:8080/"
        },
        "id": "73dd3467",
        "outputId": "4d5443dd-fdbb-480b-b168-bb6433439d20"
      },
      "outputs": [
        {
          "output_type": "execute_result",
          "data": {
            "text/plain": [
              "float"
            ]
          },
          "metadata": {},
          "execution_count": 31
        }
      ],
      "source": [
        "#Qual é o tipo do (?) -> Float - Deciaml\n",
        "\n",
        "type(5.5)"
      ]
    },
    {
      "cell_type": "code",
      "execution_count": null,
      "id": "5a27f4d6",
      "metadata": {
        "colab": {
          "base_uri": "https://localhost:8080/"
        },
        "id": "5a27f4d6",
        "outputId": "da46214f-4176-4378-c4a9-ebaee1b32252"
      },
      "outputs": [
        {
          "output_type": "execute_result",
          "data": {
            "text/plain": [
              "str"
            ]
          },
          "metadata": {},
          "execution_count": 32
        }
      ],
      "source": [
        "#Qual é o tipo do (?) -> String\n",
        "\n",
        "a = \"Estudando Python\"\n",
        "type(a)"
      ]
    },
    {
      "cell_type": "markdown",
      "id": "92d02ab8",
      "metadata": {
        "id": "92d02ab8"
      },
      "source": [
        "# Condicional if"
      ]
    },
    {
      "cell_type": "code",
      "execution_count": null,
      "id": "2a066b1d",
      "metadata": {
        "colab": {
          "base_uri": "https://localhost:8080/"
        },
        "id": "2a066b1d",
        "outputId": "5cfab68c-9163-42b6-9f79-7f9e9c1ff09c"
      },
      "outputs": [
        {
          "output_type": "stream",
          "name": "stdout",
          "text": [
            "A sentença é verdadeira!\n"
          ]
        }
      ],
      "source": [
        "#Condicional if (se)\n",
        "\n",
        "if 5 > 2:\n",
        "    print(\"A sentença é verdadeira!\")"
      ]
    },
    {
      "cell_type": "code",
      "execution_count": null,
      "id": "d47d11b1",
      "metadata": {
        "colab": {
          "base_uri": "https://localhost:8080/"
        },
        "id": "d47d11b1",
        "outputId": "d146b8e3-b874-4a1b-bb21-d10d4227f6dd"
      },
      "outputs": [
        {
          "output_type": "stream",
          "name": "stdout",
          "text": [
            "A sentença é falsa!\n"
          ]
        }
      ],
      "source": [
        "#Condicional if...else\n",
        "\n",
        "if 5 < 2:\n",
        "    print(\"A sentença é verdadeira!\")\n",
        "else:\n",
        "    print(\"A sentença é falsa!\")"
      ]
    },
    {
      "cell_type": "code",
      "execution_count": null,
      "id": "f6e4cb36",
      "metadata": {
        "colab": {
          "base_uri": "https://localhost:8080/"
        },
        "id": "f6e4cb36",
        "outputId": "d3ff0c21-4adf-4acc-c2fe-cd8883e8a48f"
      },
      "outputs": [
        {
          "output_type": "stream",
          "name": "stdout",
          "text": [
            "Hoje vai chover!\n"
          ]
        }
      ],
      "source": [
        "#Condicional if...else com variável\n",
        "\n",
        "dia = \"Quarta-feita\"\n",
        "\n",
        "if dia == \"Sexta-feira\":\n",
        "    print(\"Hoje fará sol!\")\n",
        "else:\n",
        "    print(\"Hoje vai chover!\")"
      ]
    },
    {
      "cell_type": "markdown",
      "id": "dd2cc834",
      "metadata": {
        "id": "dd2cc834"
      },
      "source": [
        "# Manipulando arquivos"
      ]
    },
    {
      "cell_type": "code",
      "source": [
        "from google.colab import drive\n",
        "drive.mount('/content/drive')"
      ],
      "metadata": {
        "colab": {
          "base_uri": "https://localhost:8080/"
        },
        "id": "bp2PgrVtoK6S",
        "outputId": "47b99168-f7d6-4ccd-8012-2e9f1e6a46ad"
      },
      "id": "bp2PgrVtoK6S",
      "execution_count": null,
      "outputs": [
        {
          "output_type": "stream",
          "name": "stdout",
          "text": [
            "Drive already mounted at /content/drive; to attempt to forcibly remount, call drive.mount(\"/content/drive\", force_remount=True).\n"
          ]
        }
      ]
    },
    {
      "cell_type": "code",
      "execution_count": null,
      "id": "7c8618aa",
      "metadata": {
        "id": "7c8618aa"
      },
      "outputs": [],
      "source": [
        "#Abrindo o arquivo para leitura\n",
        "\n",
        "a1 = open(\"/content/drive/MyDrive/Colab Notebooks/Primeira Aula/Arquivos/arquivo1.txt\", \"r\")"
      ]
    },
    {
      "cell_type": "code",
      "execution_count": null,
      "id": "61663e02",
      "metadata": {
        "colab": {
          "base_uri": "https://localhost:8080/"
        },
        "id": "61663e02",
        "outputId": "04f0d3c9-885b-4ec2-b3b5-3622b1a1c51a"
      },
      "outputs": [
        {
          "output_type": "stream",
          "name": "stdout",
          "text": [
            "Teste de leitura de arquivo em Python com Jupyter Notebook\n"
          ]
        }
      ],
      "source": [
        "#Lendo o arquivo\n",
        "\n",
        "print(a1.read())"
      ]
    },
    {
      "cell_type": "markdown",
      "id": "db6d44b2",
      "metadata": {
        "id": "db6d44b2"
      },
      "source": [
        "# Gravando arquivos (.txt)"
      ]
    },
    {
      "cell_type": "code",
      "execution_count": null,
      "id": "9ba9df2f",
      "metadata": {
        "id": "9ba9df2f"
      },
      "outputs": [],
      "source": [
        "#Abrindo o arquivo para gravação\n",
        "\n",
        "a2 = open(\"/content/drive/MyDrive/Colab Notebooks/Primeira Aula/Arquivos/arquivo2.txt\", \"w\")"
      ]
    },
    {
      "cell_type": "code",
      "execution_count": null,
      "id": "90f4c308",
      "metadata": {
        "scrolled": true,
        "colab": {
          "base_uri": "https://localhost:8080/"
        },
        "id": "90f4c308",
        "outputId": "72895236-8bb9-40f4-8236-f790efdf670d"
      },
      "outputs": [
        {
          "output_type": "execute_result",
          "data": {
            "text/plain": [
              "18"
            ]
          },
          "metadata": {},
          "execution_count": 49
        }
      ],
      "source": [
        "#Gravando no arquivo\n",
        "\n",
        "a2.write(\"Aprendendo Python!\")"
      ]
    },
    {
      "cell_type": "code",
      "execution_count": null,
      "id": "85a5b1a4",
      "metadata": {
        "id": "85a5b1a4"
      },
      "outputs": [],
      "source": [
        "#Abrindo o arquivo para leitura\n",
        "\n",
        "a2 = open(\"/content/drive/MyDrive/Colab Notebooks/Primeira Aula/Arquivos/arquivo2.txt\", \"r\")"
      ]
    },
    {
      "cell_type": "code",
      "execution_count": null,
      "id": "3f243d2e",
      "metadata": {
        "colab": {
          "base_uri": "https://localhost:8080/"
        },
        "id": "3f243d2e",
        "outputId": "67bb3aaf-e842-4eab-ebd8-8569e51b460c"
      },
      "outputs": [
        {
          "output_type": "stream",
          "name": "stdout",
          "text": [
            "Aprendendo Python!\n"
          ]
        }
      ],
      "source": [
        "#Lendo o arquivo\n",
        "\n",
        "print(a2.read())"
      ]
    }
  ],
  "metadata": {
    "kernelspec": {
      "display_name": "Python 3 (ipykernel)",
      "language": "python",
      "name": "python3"
    },
    "language_info": {
      "codemirror_mode": {
        "name": "ipython",
        "version": 3
      },
      "file_extension": ".py",
      "mimetype": "text/x-python",
      "name": "python",
      "nbconvert_exporter": "python",
      "pygments_lexer": "ipython3",
      "version": "3.10.9"
    },
    "colab": {
      "provenance": []
    }
  },
  "nbformat": 4,
  "nbformat_minor": 5
}