{
 "cells": [
  {
   "cell_type": "markdown",
   "id": "31f362e2",
   "metadata": {
    "papermill": {
     "duration": 0.043498,
     "end_time": "2023-07-21T15:10:48.133861",
     "exception": false,
     "start_time": "2023-07-21T15:10:48.090363",
     "status": "completed"
    },
    "tags": []
   },
   "source": [
    "## Introdução e configuração"
   ]
  },
  {
   "cell_type": "code",
   "execution_count": 1,
   "id": "c4bfb209",
   "metadata": {
    "_kg_hide-output": true,
    "execution": {
     "iopub.execute_input": "2023-07-21T15:10:48.221496Z",
     "iopub.status.busy": "2023-07-21T15:10:48.220838Z",
     "iopub.status.idle": "2023-07-21T15:11:22.505432Z",
     "shell.execute_reply": "2023-07-21T15:11:22.504081Z"
    },
    "papermill": {
     "duration": 34.331292,
     "end_time": "2023-07-21T15:11:22.508936",
     "exception": false,
     "start_time": "2023-07-21T15:10:48.177644",
     "status": "completed"
    },
    "tags": []
   },
   "outputs": [
    {
     "name": "stdout",
     "output_type": "stream",
     "text": [
      "\u001b[31mERROR: pip's dependency resolver does not currently take into account all the packages that are installed. This behaviour is the source of the following dependency conflicts.\r\n",
      "tensorflow-io 0.21.0 requires tensorflow-io-gcs-filesystem==0.21.0, which is not installed.\r\n",
      "tensorflow 2.6.3 requires absl-py~=0.10, but you have absl-py 1.0.0 which is incompatible.\r\n",
      "tensorflow 2.6.3 requires numpy~=1.19.2, but you have numpy 1.21.6 which is incompatible.\r\n",
      "tensorflow 2.6.3 requires six~=1.15.0, but you have six 1.16.0 which is incompatible.\r\n",
      "tensorflow 2.6.3 requires wrapt~=1.12.1, but you have wrapt 1.14.0 which is incompatible.\r\n",
      "tensorflow-transform 1.7.0 requires pyarrow<6,>=1, but you have pyarrow 7.0.0 which is incompatible.\r\n",
      "tensorflow-transform 1.7.0 requires tensorflow!=2.0.*,!=2.1.*,!=2.2.*,!=2.3.*,!=2.4.*,!=2.5.*,!=2.6.*,!=2.7.*,<2.9,>=1.15.5, but you have tensorflow 2.6.3 which is incompatible.\r\n",
      "tensorflow-serving-api 2.8.0 requires tensorflow<3,>=2.8.0, but you have tensorflow 2.6.3 which is incompatible.\r\n",
      "rich 12.4.1 requires typing-extensions<5.0,>=4.0.0; python_version < \"3.9\", but you have typing-extensions 3.10.0.2 which is incompatible.\r\n",
      "pytorch-lightning 1.6.3 requires typing-extensions>=4.0.0, but you have typing-extensions 3.10.0.2 which is incompatible.\r\n",
      "flax 0.4.2 requires typing-extensions>=4.1.1, but you have typing-extensions 3.10.0.2 which is incompatible.\r\n",
      "flake8 4.0.1 requires importlib-metadata<4.3; python_version < \"3.8\", but you have importlib-metadata 4.11.3 which is incompatible.\r\n",
      "apache-beam 2.37.0 requires dill<0.3.2,>=0.3.1.1, but you have dill 0.3.4 which is incompatible.\r\n",
      "apache-beam 2.37.0 requires httplib2<0.20.0,>=0.8, but you have httplib2 0.20.4 which is incompatible.\r\n",
      "apache-beam 2.37.0 requires pyarrow<7.0.0,>=0.15.1, but you have pyarrow 7.0.0 which is incompatible.\r\n",
      "aioitertools 0.10.0 requires typing_extensions>=4.0; python_version < \"3.10\", but you have typing-extensions 3.10.0.2 which is incompatible.\r\n",
      "aiobotocore 2.2.0 requires botocore<1.24.22,>=1.24.21, but you have botocore 1.25.12 which is incompatible.\u001b[0m\u001b[31m\r\n",
      "\u001b[0m"
     ]
    }
   ],
   "source": [
    "from pathlib import Path\n",
    "import os\n",
    "\n",
    "iskaggle = os.environ.get('KAGGLE_KERNEL_RUN_TYPE', '')\n",
    "if iskaggle:\n",
    "    path = Path('../input/titanic')\n",
    "    !pip install -Uqq fastai\n",
    "else:\n",
    "    import zipfile,kaggle\n",
    "    path = Path('titanic')\n",
    "    if not path.exists():\n",
    "        kaggle.api.competition_download_cli(str(path))\n",
    "        zipfile.ZipFile(f'{path}.zip').extractall(path)"
   ]
  },
  {
   "cell_type": "markdown",
   "id": "cc0a3645",
   "metadata": {
    "papermill": {
     "duration": 0.043123,
     "end_time": "2023-07-21T15:11:22.594078",
     "exception": false,
     "start_time": "2023-07-21T15:11:22.550955",
     "status": "completed"
    },
    "tags": []
   },
   "source": [
    "Vamos importar a biblioteca tabular fastai, definir uma semente (seed) aleatória para que o notebook seja reproduzível e escolher um número razoável de algarismos significativos para exibir em nossas tabelas:"
   ]
  },
  {
   "cell_type": "code",
   "execution_count": 2,
   "id": "0f3f54f8",
   "metadata": {
    "execution": {
     "iopub.execute_input": "2023-07-21T15:11:22.688413Z",
     "iopub.status.busy": "2023-07-21T15:11:22.687977Z",
     "iopub.status.idle": "2023-07-21T15:11:26.342177Z",
     "shell.execute_reply": "2023-07-21T15:11:26.340846Z"
    },
    "papermill": {
     "duration": 3.707237,
     "end_time": "2023-07-21T15:11:26.345957",
     "exception": false,
     "start_time": "2023-07-21T15:11:22.638720",
     "status": "completed"
    },
    "tags": []
   },
   "outputs": [],
   "source": [
    "from fastai.tabular.all import *\n",
    "\n",
    "pd.options.display.float_format = '{:.2f}'.format\n",
    "set_seed(42)"
   ]
  },
  {
   "cell_type": "markdown",
   "id": "c6ffee1e",
   "metadata": {
    "papermill": {
     "duration": 0.042725,
     "end_time": "2023-07-21T15:11:26.430519",
     "exception": false,
     "start_time": "2023-07-21T15:11:26.387794",
     "status": "completed"
    },
    "tags": []
   },
   "source": [
    "## Preparando os dados"
   ]
  },
  {
   "cell_type": "markdown",
   "id": "64f19264",
   "metadata": {
    "papermill": {
     "duration": 0.041496,
     "end_time": "2023-07-21T15:11:26.514235",
     "exception": false,
     "start_time": "2023-07-21T15:11:26.472739",
     "status": "completed"
    },
    "tags": []
   },
   "source": [
    "Vamos ler o arquivo CSV:"
   ]
  },
  {
   "cell_type": "code",
   "execution_count": 3,
   "id": "c240e150",
   "metadata": {
    "execution": {
     "iopub.execute_input": "2023-07-21T15:11:26.601557Z",
     "iopub.status.busy": "2023-07-21T15:11:26.600346Z",
     "iopub.status.idle": "2023-07-21T15:11:26.628084Z",
     "shell.execute_reply": "2023-07-21T15:11:26.626982Z"
    },
    "papermill": {
     "duration": 0.074697,
     "end_time": "2023-07-21T15:11:26.631383",
     "exception": false,
     "start_time": "2023-07-21T15:11:26.556686",
     "status": "completed"
    },
    "tags": []
   },
   "outputs": [],
   "source": [
    "df = pd.read_csv(path/'train.csv')"
   ]
  },
  {
   "cell_type": "markdown",
   "id": "138026a7",
   "metadata": {
    "papermill": {
     "duration": 0.041589,
     "end_time": "2023-07-21T15:11:26.715306",
     "exception": false,
     "start_time": "2023-07-21T15:11:26.673717",
     "status": "completed"
    },
    "tags": []
   },
   "source": [
    "Quando você faz tudo do zero, cada parte da engenharia de recursos exige muito trabalho, já que você precisa pensar em coisas como variáveis fictícias (dummy), normalização, valores ausentes e assim por diante. Mas com fastai tudo isso é feito para você."
   ]
  },
  {
   "cell_type": "code",
   "execution_count": 4,
   "id": "34812142",
   "metadata": {
    "execution": {
     "iopub.execute_input": "2023-07-21T15:11:26.818022Z",
     "iopub.status.busy": "2023-07-21T15:11:26.817275Z",
     "iopub.status.idle": "2023-07-21T15:11:27.078572Z",
     "shell.execute_reply": "2023-07-21T15:11:27.077429Z"
    },
    "papermill": {
     "duration": 0.322324,
     "end_time": "2023-07-21T15:11:27.081904",
     "exception": false,
     "start_time": "2023-07-21T15:11:26.759580",
     "status": "completed"
    },
    "tags": []
   },
   "outputs": [],
   "source": [
    "def add_features(df):\n",
    "    df['LogFare'] = np.log1p(df['Fare'])\n",
    "    df['Deck'] = df.Cabin.str[0].map(dict(A=\"ABC\", B=\"ABC\", C=\"ABC\", D=\"DE\", E=\"DE\", F=\"FG\", G=\"FG\"))\n",
    "    df['Family'] = df.SibSp+df.Parch\n",
    "    df['Alone'] = df.Family==0\n",
    "    df['TicketFreq'] = df.groupby('Ticket')['Ticket'].transform('count')\n",
    "    df['Title'] = df.Name.str.split(', ', expand=True)[1].str.split('.', expand=True)[0]\n",
    "    df['Title'] = df.Title.map(dict(Mr=\"Mr\",Miss=\"Miss\",Mrs=\"Mrs\",Master=\"Master\"))\n",
    "\n",
    "add_features(df)"
   ]
  },
  {
   "cell_type": "markdown",
   "id": "4d066409",
   "metadata": {
    "papermill": {
     "duration": 0.053495,
     "end_time": "2023-07-21T15:11:27.180053",
     "exception": false,
     "start_time": "2023-07-21T15:11:27.126558",
     "status": "completed"
    },
    "tags": []
   },
   "source": [
    "Podemos usar `RandomSplitter` para separar os conjuntos de treinamento e validação:"
   ]
  },
  {
   "cell_type": "code",
   "execution_count": 5,
   "id": "0d6022bc",
   "metadata": {
    "execution": {
     "iopub.execute_input": "2023-07-21T15:11:27.288447Z",
     "iopub.status.busy": "2023-07-21T15:11:27.287153Z",
     "iopub.status.idle": "2023-07-21T15:11:27.295563Z",
     "shell.execute_reply": "2023-07-21T15:11:27.294416Z"
    },
    "papermill": {
     "duration": 0.064412,
     "end_time": "2023-07-21T15:11:27.298439",
     "exception": false,
     "start_time": "2023-07-21T15:11:27.234027",
     "status": "completed"
    },
    "tags": []
   },
   "outputs": [],
   "source": [
    "splits = RandomSplitter(seed=42)(df)"
   ]
  },
  {
   "cell_type": "markdown",
   "id": "5d2748d1",
   "metadata": {
    "papermill": {
     "duration": 0.041806,
     "end_time": "2023-07-21T15:11:27.383658",
     "exception": false,
     "start_time": "2023-07-21T15:11:27.341852",
     "status": "completed"
    },
    "tags": []
   },
   "source": [
    "Agora, todo o processo de preparação dos dados para treinamento requer apenas esta célula:"
   ]
  },
  {
   "cell_type": "code",
   "execution_count": 6,
   "id": "8bfb14c2",
   "metadata": {
    "execution": {
     "iopub.execute_input": "2023-07-21T15:11:27.473200Z",
     "iopub.status.busy": "2023-07-21T15:11:27.472727Z",
     "iopub.status.idle": "2023-07-21T15:11:27.562881Z",
     "shell.execute_reply": "2023-07-21T15:11:27.561958Z"
    },
    "papermill": {
     "duration": 0.139263,
     "end_time": "2023-07-21T15:11:27.565958",
     "exception": false,
     "start_time": "2023-07-21T15:11:27.426695",
     "status": "completed"
    },
    "tags": []
   },
   "outputs": [],
   "source": [
    "dls = TabularPandas(\n",
    "    df, splits=splits,\n",
    "    procs = [Categorify, FillMissing, Normalize],\n",
    "    cat_names=[\"Sex\",\"Pclass\",\"Embarked\",\"Deck\", \"Title\"],\n",
    "    cont_names=['Age', 'SibSp', 'Parch', 'LogFare', 'Alone', 'TicketFreq', 'Family'],\n",
    "    y_names=\"Survived\", y_block = CategoryBlock(),\n",
    ").dataloaders(path=\".\")"
   ]
  },
  {
   "cell_type": "markdown",
   "id": "9a0af533",
   "metadata": {
    "papermill": {
     "duration": 0.042308,
     "end_time": "2023-07-21T15:11:27.653130",
     "exception": false,
     "start_time": "2023-07-21T15:11:27.610822",
     "status": "completed"
    },
    "tags": []
   },
   "source": [
    "Veja o que cada um dos parâmetros significa:\n",
    "\n",
    "- Use `splits` para índices de conjuntos de treinamento e validação:\n",
    "\n",
    "      splits=splits,\n",
    "    \n",
    "- Transforme strings em categorias, preencha os valores ausentes em colunas numéricas com a mediana, normalize todas as colunas numéricas:\n",
    "    \n",
    "      procs = [Categorify, FillMissing, Normalize],\n",
    "    \n",
    "- Estas são as variáveis independentes categóricas:\n",
    "    \n",
    "      cat_names=[\"Sex\",\"Pclass\",\"Embarked\",\"Deck\", \"Title\"],\n",
    "    \n",
    "- Estas são as variáveis independentes contínuas:\n",
    "    \n",
    "      cont_names=['Age', 'SibSp', 'Parch', 'LogFare', 'Alone', 'TicketFreq', 'Family'],\n",
    "    \n",
    "- Esta é a variável dependente:\n",
    "    \n",
    "      y_names=\"Survived\",\n",
    "\n",
    "- A variável dependente é categórica (portanto, construa um modelo de classificação, não um modelo de regressão):\n",
    "\n",
    "      y_block = CategoryBlock(),"
   ]
  },
  {
   "cell_type": "markdown",
   "id": "85bed474",
   "metadata": {
    "papermill": {
     "duration": 0.043926,
     "end_time": "2023-07-21T15:11:27.740419",
     "exception": false,
     "start_time": "2023-07-21T15:11:27.696493",
     "status": "completed"
    },
    "tags": []
   },
   "source": [
    "## Treine o modelo"
   ]
  },
  {
   "cell_type": "markdown",
   "id": "111961e3",
   "metadata": {
    "papermill": {
     "duration": 0.046941,
     "end_time": "2023-07-21T15:11:27.830586",
     "exception": false,
     "start_time": "2023-07-21T15:11:27.783645",
     "status": "completed"
    },
    "tags": []
   },
   "source": [
    "Os dados e o modelo juntos formam um 'Aprendiz'. Para criar um, dizemos quais são os dados (`dls`) e o tamanho de cada camada oculta (`[10,10]`), juntamente com as métricas que queremos imprimir ao longo do caminho:"
   ]
  },
  {
   "cell_type": "code",
   "execution_count": 7,
   "id": "0baf073f",
   "metadata": {
    "execution": {
     "iopub.execute_input": "2023-07-21T15:11:27.917637Z",
     "iopub.status.busy": "2023-07-21T15:11:27.916673Z",
     "iopub.status.idle": "2023-07-21T15:11:27.938306Z",
     "shell.execute_reply": "2023-07-21T15:11:27.937198Z"
    },
    "papermill": {
     "duration": 0.068316,
     "end_time": "2023-07-21T15:11:27.941696",
     "exception": false,
     "start_time": "2023-07-21T15:11:27.873380",
     "status": "completed"
    },
    "tags": []
   },
   "outputs": [],
   "source": [
    "learn = tabular_learner(dls, metrics=accuracy, layers=[10,10])"
   ]
  },
  {
   "cell_type": "markdown",
   "id": "828b11d5",
   "metadata": {
    "papermill": {
     "duration": 0.042698,
     "end_time": "2023-07-21T15:11:28.026094",
     "exception": false,
     "start_time": "2023-07-21T15:11:27.983396",
     "status": "completed"
    },
    "tags": []
   },
   "source": [
    "Você notará que não precisamos fazer nenhuma confusão para tentar encontrar um conjunto de coeficientes aleatórios que serão treinados corretamente - tudo é tratado automaticamente.\n",
    "\n",
    "Um recurso útil que o fastai também pode nos dizer qual taxa de aprendizado usar:"
   ]
  },
  {
   "cell_type": "code",
   "execution_count": 8,
   "id": "72f1b835",
   "metadata": {
    "execution": {
     "iopub.execute_input": "2023-07-21T15:11:28.117313Z",
     "iopub.status.busy": "2023-07-21T15:11:28.116788Z",
     "iopub.status.idle": "2023-07-21T15:11:30.959307Z",
     "shell.execute_reply": "2023-07-21T15:11:30.958187Z"
    },
    "papermill": {
     "duration": 2.89002,
     "end_time": "2023-07-21T15:11:30.962603",
     "exception": false,
     "start_time": "2023-07-21T15:11:28.072583",
     "status": "completed"
    },
    "tags": []
   },
   "outputs": [
    {
     "data": {
      "text/html": [
       "\n",
       "<style>\n",
       "    /* Turns off some styling */\n",
       "    progress {\n",
       "        /* gets rid of default border in Firefox and Opera. */\n",
       "        border: none;\n",
       "        /* Needs to be in here for Safari polyfill so background images work as expected. */\n",
       "        background-size: auto;\n",
       "    }\n",
       "    .progress-bar-interrupted, .progress-bar-interrupted::-webkit-progress-bar {\n",
       "        background: #F44336;\n",
       "    }\n",
       "</style>\n"
      ],
      "text/plain": [
       "<IPython.core.display.HTML object>"
      ]
     },
     "metadata": {},
     "output_type": "display_data"
    },
    {
     "data": {
      "text/html": [],
      "text/plain": [
       "<IPython.core.display.HTML object>"
      ]
     },
     "metadata": {},
     "output_type": "display_data"
    },
    {
     "data": {
      "text/plain": [
       "SuggestedLRs(slide=0.05754399299621582, valley=0.013182567432522774)"
      ]
     },
     "execution_count": 8,
     "metadata": {},
     "output_type": "execute_result"
    },
    {
     "data": {
      "image/png": "[encoded data removed]",
      "text/plain": [
       "<Figure size 432x288 with 1 Axes>"
      ]
     },
     "metadata": {
      "needs_background": "light"
     },
     "output_type": "display_data"
    }
   ],
   "source": [
    "learn.lr_find(suggest_funcs=(slide, valley))"
   ]
  },
  {
   "cell_type": "markdown",
   "id": "e0837014",
   "metadata": {
    "papermill": {
     "duration": 0.048212,
     "end_time": "2023-07-21T15:11:31.057978",
     "exception": false,
     "start_time": "2023-07-21T15:11:31.009766",
     "status": "completed"
    },
    "tags": []
   },
   "source": [
    "Os dois pontos coloridos são escolhas razoáveis para uma taxa de aprendizado. Vou escolher algo entre os dois (0,03) e treinar por algumas vezes:"
   ]
  },
  {
   "cell_type": "code",
   "execution_count": 9,
   "id": "6386ce99",
   "metadata": {
    "execution": {
     "iopub.execute_input": "2023-07-21T15:11:31.154530Z",
     "iopub.status.busy": "2023-07-21T15:11:31.152269Z",
     "iopub.status.idle": "2023-07-21T15:11:34.298321Z",
     "shell.execute_reply": "2023-07-21T15:11:34.297082Z"
    },
    "papermill": {
     "duration": 3.196307,
     "end_time": "2023-07-21T15:11:34.301277",
     "exception": false,
     "start_time": "2023-07-21T15:11:31.104970",
     "status": "completed"
    },
    "tags": []
   },
   "outputs": [
    {
     "data": {
      "text/html": [
       "\n",
       "<style>\n",
       "    /* Turns off some styling */\n",
       "    progress {\n",
       "        /* gets rid of default border in Firefox and Opera. */\n",
       "        border: none;\n",
       "        /* Needs to be in here for Safari polyfill so background images work as expected. */\n",
       "        background-size: auto;\n",
       "    }\n",
       "    .progress-bar-interrupted, .progress-bar-interrupted::-webkit-progress-bar {\n",
       "        background: #F44336;\n",
       "    }\n",
       "</style>\n"
      ],
      "text/plain": [
       "<IPython.core.display.HTML object>"
      ]
     },
     "metadata": {},
     "output_type": "display_data"
    },
    {
     "data": {
      "text/html": [
       "<table border=\"1\" class=\"dataframe\">\n",
       "  <thead>\n",
       "    <tr style=\"text-align: left;\">\n",
       "      <th>epoch</th>\n",
       "      <th>train_loss</th>\n",
       "      <th>valid_loss</th>\n",
       "      <th>accuracy</th>\n",
       "      <th>time</th>\n",
       "    </tr>\n",
       "  </thead>\n",
       "  <tbody>\n",
       "    <tr>\n",
       "      <td>0</td>\n",
       "      <td>0.577146</td>\n",
       "      <td>0.582949</td>\n",
       "      <td>0.606742</td>\n",
       "      <td>00:00</td>\n",
       "    </tr>\n",
       "    <tr>\n",
       "      <td>1</td>\n",
       "      <td>0.510818</td>\n",
       "      <td>0.498523</td>\n",
       "      <td>0.786517</td>\n",
       "      <td>00:00</td>\n",
       "    </tr>\n",
       "    <tr>\n",
       "      <td>2</td>\n",
       "      <td>0.467023</td>\n",
       "      <td>0.459841</td>\n",
       "      <td>0.797753</td>\n",
       "      <td>00:00</td>\n",
       "    </tr>\n",
       "    <tr>\n",
       "      <td>3</td>\n",
       "      <td>0.439957</td>\n",
       "      <td>0.468547</td>\n",
       "      <td>0.797753</td>\n",
       "      <td>00:00</td>\n",
       "    </tr>\n",
       "    <tr>\n",
       "      <td>4</td>\n",
       "      <td>0.427232</td>\n",
       "      <td>0.415261</td>\n",
       "      <td>0.825843</td>\n",
       "      <td>00:00</td>\n",
       "    </tr>\n",
       "    <tr>\n",
       "      <td>5</td>\n",
       "      <td>0.416340</td>\n",
       "      <td>0.437362</td>\n",
       "      <td>0.820225</td>\n",
       "      <td>00:00</td>\n",
       "    </tr>\n",
       "    <tr>\n",
       "      <td>6</td>\n",
       "      <td>0.408347</td>\n",
       "      <td>0.413253</td>\n",
       "      <td>0.848315</td>\n",
       "      <td>00:00</td>\n",
       "    </tr>\n",
       "    <tr>\n",
       "      <td>7</td>\n",
       "      <td>0.400442</td>\n",
       "      <td>0.406075</td>\n",
       "      <td>0.803371</td>\n",
       "      <td>00:00</td>\n",
       "    </tr>\n",
       "    <tr>\n",
       "      <td>8</td>\n",
       "      <td>0.397265</td>\n",
       "      <td>0.443730</td>\n",
       "      <td>0.820225</td>\n",
       "      <td>00:00</td>\n",
       "    </tr>\n",
       "    <tr>\n",
       "      <td>9</td>\n",
       "      <td>0.392389</td>\n",
       "      <td>0.432267</td>\n",
       "      <td>0.831461</td>\n",
       "      <td>00:00</td>\n",
       "    </tr>\n",
       "    <tr>\n",
       "      <td>10</td>\n",
       "      <td>0.389983</td>\n",
       "      <td>0.415383</td>\n",
       "      <td>0.831461</td>\n",
       "      <td>00:00</td>\n",
       "    </tr>\n",
       "    <tr>\n",
       "      <td>11</td>\n",
       "      <td>0.386057</td>\n",
       "      <td>0.425319</td>\n",
       "      <td>0.820225</td>\n",
       "      <td>00:00</td>\n",
       "    </tr>\n",
       "    <tr>\n",
       "      <td>12</td>\n",
       "      <td>0.382527</td>\n",
       "      <td>0.435054</td>\n",
       "      <td>0.831461</td>\n",
       "      <td>00:00</td>\n",
       "    </tr>\n",
       "    <tr>\n",
       "      <td>13</td>\n",
       "      <td>0.378309</td>\n",
       "      <td>0.429746</td>\n",
       "      <td>0.831461</td>\n",
       "      <td>00:00</td>\n",
       "    </tr>\n",
       "    <tr>\n",
       "      <td>14</td>\n",
       "      <td>0.374304</td>\n",
       "      <td>0.419489</td>\n",
       "      <td>0.825843</td>\n",
       "      <td>00:00</td>\n",
       "    </tr>\n",
       "    <tr>\n",
       "      <td>15</td>\n",
       "      <td>0.372190</td>\n",
       "      <td>0.425430</td>\n",
       "      <td>0.831461</td>\n",
       "      <td>00:00</td>\n",
       "    </tr>\n",
       "  </tbody>\n",
       "</table>"
      ],
      "text/plain": [
       "<IPython.core.display.HTML object>"
      ]
     },
     "metadata": {},
     "output_type": "display_data"
    }
   ],
   "source": [
    "learn.fit(16, lr=0.03)"
   ]
  },
  {
   "cell_type": "markdown",
   "id": "93132b8a",
   "metadata": {
    "papermill": {
     "duration": 0.046273,
     "end_time": "2023-07-21T15:11:34.395917",
     "exception": false,
     "start_time": "2023-07-21T15:11:34.349644",
     "status": "completed"
    },
    "tags": []
   },
   "source": [
    "## Enivar para o Kaggle"
   ]
  },
  {
   "cell_type": "markdown",
   "id": "fbeccec3",
   "metadata": {
    "papermill": {
     "duration": 0.046591,
     "end_time": "2023-07-21T15:11:34.490425",
     "exception": false,
     "start_time": "2023-07-21T15:11:34.443834",
     "status": "completed"
    },
    "tags": []
   },
   "source": [
    "Uma característica importante do fastai é que todas as informações necessárias para aplicar as transformações de dados e o modelo a um novo conjunto de dados são armazenadas no aprendiz. Você pode chamar `export` para salvá-lo em um arquivo para usá-lo posteriormente na produção ou pode usar o modelo treinado imediatamente para obter previsões em um conjunto de teste.\n",
    "\n",
    "Para enviar ao Kaggle, precisaremos ler no conjunto de teste e fazer a mesma engenharia de recursos que fizemos para o conjunto de treinamento:"
   ]
  },
  {
   "cell_type": "code",
   "execution_count": 10,
   "id": "05d41501",
   "metadata": {
    "execution": {
     "iopub.execute_input": "2023-07-21T15:11:34.587565Z",
     "iopub.status.busy": "2023-07-21T15:11:34.586370Z",
     "iopub.status.idle": "2023-07-21T15:11:34.619866Z",
     "shell.execute_reply": "2023-07-21T15:11:34.618870Z"
    },
    "papermill": {
     "duration": 0.08507,
     "end_time": "2023-07-21T15:11:34.622788",
     "exception": false,
     "start_time": "2023-07-21T15:11:34.537718",
     "status": "completed"
    },
    "tags": []
   },
   "outputs": [],
   "source": [
    "tst_df = pd.read_csv(path/'test.csv')\n",
    "tst_df['Fare'] = tst_df.Fare.fillna(0)\n",
    "add_features(tst_df)"
   ]
  },
  {
   "cell_type": "markdown",
   "id": "a02ad391",
   "metadata": {
    "papermill": {
     "duration": 0.04711,
     "end_time": "2023-07-21T15:11:34.719996",
     "exception": false,
     "start_time": "2023-07-21T15:11:34.672886",
     "status": "completed"
    },
    "tags": []
   },
   "source": [
    "Mas não precisamos especificar manualmente nenhuma das etapas de processamento necessárias para preparar os dados para modelagem, pois tudo é salvo no aprendiz. Para especificar que queremos aplicar as mesmas etapas a um novo conjunto de dados, use o método `test_dl()`:"
   ]
  },
  {
   "cell_type": "code",
   "execution_count": 11,
   "id": "2bc20fa3",
   "metadata": {
    "execution": {
     "iopub.execute_input": "2023-07-21T15:11:34.818477Z",
     "iopub.status.busy": "2023-07-21T15:11:34.817022Z",
     "iopub.status.idle": "2023-07-21T15:11:34.844226Z",
     "shell.execute_reply": "2023-07-21T15:11:34.843426Z"
    },
    "papermill": {
     "duration": 0.079179,
     "end_time": "2023-07-21T15:11:34.847168",
     "exception": false,
     "start_time": "2023-07-21T15:11:34.767989",
     "status": "completed"
    },
    "tags": []
   },
   "outputs": [],
   "source": [
    "tst_dl = learn.dls.test_dl(tst_df)"
   ]
  },
  {
   "cell_type": "markdown",
   "id": "2e52c916",
   "metadata": {
    "papermill": {
     "duration": 0.047161,
     "end_time": "2023-07-21T15:11:34.941219",
     "exception": false,
     "start_time": "2023-07-21T15:11:34.894058",
     "status": "completed"
    },
    "tags": []
   },
   "source": [
    "Agora podemos usar `get_preds` para obter as previsões para o conjunto de teste:"
   ]
  },
  {
   "cell_type": "code",
   "execution_count": 12,
   "id": "3a862051",
   "metadata": {
    "execution": {
     "iopub.execute_input": "2023-07-21T15:11:35.041595Z",
     "iopub.status.busy": "2023-07-21T15:11:35.039995Z",
     "iopub.status.idle": "2023-07-21T15:11:35.132774Z",
     "shell.execute_reply": "2023-07-21T15:11:35.131834Z"
    },
    "papermill": {
     "duration": 0.144354,
     "end_time": "2023-07-21T15:11:35.135816",
     "exception": false,
     "start_time": "2023-07-21T15:11:34.991462",
     "status": "completed"
    },
    "tags": []
   },
   "outputs": [
    {
     "data": {
      "text/html": [
       "\n",
       "<style>\n",
       "    /* Turns off some styling */\n",
       "    progress {\n",
       "        /* gets rid of default border in Firefox and Opera. */\n",
       "        border: none;\n",
       "        /* Needs to be in here for Safari polyfill so background images work as expected. */\n",
       "        background-size: auto;\n",
       "    }\n",
       "    .progress-bar-interrupted, .progress-bar-interrupted::-webkit-progress-bar {\n",
       "        background: #F44336;\n",
       "    }\n",
       "</style>\n"
      ],
      "text/plain": [
       "<IPython.core.display.HTML object>"
      ]
     },
     "metadata": {},
     "output_type": "display_data"
    },
    {
     "data": {
      "text/html": [],
      "text/plain": [
       "<IPython.core.display.HTML object>"
      ]
     },
     "metadata": {},
     "output_type": "display_data"
    }
   ],
   "source": [
    "preds,_ = learn.get_preds(dl=tst_dl)"
   ]
  },
  {
   "cell_type": "markdown",
   "id": "1455f990",
   "metadata": {
    "papermill": {
     "duration": 0.048862,
     "end_time": "2023-07-21T15:11:35.236233",
     "exception": false,
     "start_time": "2023-07-21T15:11:35.187371",
     "status": "completed"
    },
    "tags": []
   },
   "source": [
    "Por fim, vamos criar um CSV de envio..."
   ]
  },
  {
   "cell_type": "code",
   "execution_count": 13,
   "id": "b77c0fea",
   "metadata": {
    "execution": {
     "iopub.execute_input": "2023-07-21T15:11:35.339500Z",
     "iopub.status.busy": "2023-07-21T15:11:35.338897Z",
     "iopub.status.idle": "2023-07-21T15:11:35.354910Z",
     "shell.execute_reply": "2023-07-21T15:11:35.353933Z"
    },
    "papermill": {
     "duration": 0.069879,
     "end_time": "2023-07-21T15:11:35.357925",
     "exception": false,
     "start_time": "2023-07-21T15:11:35.288046",
     "status": "completed"
    },
    "tags": []
   },
   "outputs": [],
   "source": [
    "tst_df['Survived'] = (preds[:,1]>0.5).int()\n",
    "sub_df = tst_df[['PassengerId','Survived']]\n",
    "sub_df.to_csv('sub.csv', index=False)"
   ]
  },
  {
   "cell_type": "markdown",
   "id": "8919aaf4",
   "metadata": {
    "papermill": {
     "duration": 0.050119,
     "end_time": "2023-07-21T15:11:35.458029",
     "exception": false,
     "start_time": "2023-07-21T15:11:35.407910",
     "status": "completed"
    },
    "tags": []
   },
   "source": [
    "...e verificar se parece razoável:"
   ]
  },
  {
   "cell_type": "code",
   "execution_count": 14,
   "id": "ee44723c",
   "metadata": {
    "execution": {
     "iopub.execute_input": "2023-07-21T15:11:35.558754Z",
     "iopub.status.busy": "2023-07-21T15:11:35.558308Z",
     "iopub.status.idle": "2023-07-21T15:11:36.667945Z",
     "shell.execute_reply": "2023-07-21T15:11:36.666613Z"
    },
    "papermill": {
     "duration": 1.16377,
     "end_time": "2023-07-21T15:11:36.671522",
     "exception": false,
     "start_time": "2023-07-21T15:11:35.507752",
     "status": "completed"
    },
    "tags": []
   },
   "outputs": [
    {
     "name": "stdout",
     "output_type": "stream",
     "text": [
      "PassengerId,Survived\r\n",
      "892,0\r\n",
      "893,0\r\n",
      "894,0\r\n",
      "895,0\r\n",
      "896,1\r\n",
      "897,0\r\n",
      "898,1\r\n",
      "899,0\r\n",
      "900,1\r\n"
     ]
    }
   ],
   "source": [
    "!head sub.csv"
   ]
  },
  {
   "cell_type": "markdown",
   "id": "c468c57d",
   "metadata": {
    "papermill": {
     "duration": 0.051807,
     "end_time": "2023-07-21T15:11:36.774893",
     "exception": false,
     "start_time": "2023-07-21T15:11:36.723086",
     "status": "completed"
    },
    "tags": []
   },
   "source": [
    "## Montagem"
   ]
  },
  {
   "cell_type": "markdown",
   "id": "c6c6b2a7",
   "metadata": {
    "papermill": {
     "duration": 0.050325,
     "end_time": "2023-07-21T15:11:36.875320",
     "exception": false,
     "start_time": "2023-07-21T15:11:36.824995",
     "status": "completed"
    },
    "tags": []
   },
   "source": [
    "Já que é tão fácil criar um modelo agora, é mais fácil brincar com abordagens de modelagem mais avançadas. Por exemplo, podemos criar cinco modelos separados, cada um treinado a partir de diferentes pontos iniciais aleatórios, e tirar a média deles. Essa é a abordagem mais simples de modelos [conjunto](https://machinelearningmastery.com/tour-of-ensemble-learning-algorithms/), que combina vários modelos para gerar previsões melhores do que qualquer um dos modelos individuais do conjunto.\n",
    "\n",
    "Para criar nosso ensemble, primeiro copiamos as três etapas que usamos acima para criar e treinar um modelo e aplicá-lo ao conjunto de teste:"
   ]
  },
  {
   "cell_type": "code",
   "execution_count": 15,
   "id": "6797f88c",
   "metadata": {
    "execution": {
     "iopub.execute_input": "2023-07-21T15:11:36.978675Z",
     "iopub.status.busy": "2023-07-21T15:11:36.978245Z",
     "iopub.status.idle": "2023-07-21T15:11:36.986289Z",
     "shell.execute_reply": "2023-07-21T15:11:36.985309Z"
    },
    "papermill": {
     "duration": 0.063692,
     "end_time": "2023-07-21T15:11:36.988834",
     "exception": false,
     "start_time": "2023-07-21T15:11:36.925142",
     "status": "completed"
    },
    "tags": []
   },
   "outputs": [],
   "source": [
    "def ensemble():\n",
    "    learn = tabular_learner(dls, metrics=accuracy, layers=[10,10])\n",
    "    with learn.no_bar(),learn.no_logging(): learn.fit(16, lr=0.03)\n",
    "    return learn.get_preds(dl=tst_dl)[0]"
   ]
  },
  {
   "cell_type": "markdown",
   "id": "caf1defd",
   "metadata": {
    "papermill": {
     "duration": 0.052789,
     "end_time": "2023-07-21T15:11:37.090572",
     "exception": false,
     "start_time": "2023-07-21T15:11:37.037783",
     "status": "completed"
    },
    "tags": []
   },
   "source": [
    "Agora, executamos isso cinco vezes e coletamos os resultados em uma lista:"
   ]
  },
  {
   "cell_type": "code",
   "execution_count": 16,
   "id": "f36a53fb",
   "metadata": {
    "execution": {
     "iopub.execute_input": "2023-07-21T15:11:37.199843Z",
     "iopub.status.busy": "2023-07-21T15:11:37.199436Z",
     "iopub.status.idle": "2023-07-21T15:11:49.325376Z",
     "shell.execute_reply": "2023-07-21T15:11:49.324301Z"
    },
    "papermill": {
     "duration": 12.187544,
     "end_time": "2023-07-21T15:11:49.327946",
     "exception": false,
     "start_time": "2023-07-21T15:11:37.140402",
     "status": "completed"
    },
    "tags": []
   },
   "outputs": [
    {
     "data": {
      "text/html": [
       "\n",
       "<style>\n",
       "    /* Turns off some styling */\n",
       "    progress {\n",
       "        /* gets rid of default border in Firefox and Opera. */\n",
       "        border: none;\n",
       "        /* Needs to be in here for Safari polyfill so background images work as expected. */\n",
       "        background-size: auto;\n",
       "    }\n",
       "    .progress-bar-interrupted, .progress-bar-interrupted::-webkit-progress-bar {\n",
       "        background: #F44336;\n",
       "    }\n",
       "</style>\n"
      ],
      "text/plain": [
       "<IPython.core.display.HTML object>"
      ]
     },
     "metadata": {},
     "output_type": "display_data"
    },
    {
     "data": {
      "text/html": [],
      "text/plain": [
       "<IPython.core.display.HTML object>"
      ]
     },
     "metadata": {},
     "output_type": "display_data"
    },
    {
     "data": {
      "text/html": [
       "\n",
       "<style>\n",
       "    /* Turns off some styling */\n",
       "    progress {\n",
       "        /* gets rid of default border in Firefox and Opera. */\n",
       "        border: none;\n",
       "        /* Needs to be in here for Safari polyfill so background images work as expected. */\n",
       "        background-size: auto;\n",
       "    }\n",
       "    .progress-bar-interrupted, .progress-bar-interrupted::-webkit-progress-bar {\n",
       "        background: #F44336;\n",
       "    }\n",
       "</style>\n"
      ],
      "text/plain": [
       "<IPython.core.display.HTML object>"
      ]
     },
     "metadata": {},
     "output_type": "display_data"
    },
    {
     "data": {
      "text/html": [],
      "text/plain": [
       "<IPython.core.display.HTML object>"
      ]
     },
     "metadata": {},
     "output_type": "display_data"
    },
    {
     "data": {
      "text/html": [
       "\n",
       "<style>\n",
       "    /* Turns off some styling */\n",
       "    progress {\n",
       "        /* gets rid of default border in Firefox and Opera. */\n",
       "        border: none;\n",
       "        /* Needs to be in here for Safari polyfill so background images work as expected. */\n",
       "        background-size: auto;\n",
       "    }\n",
       "    .progress-bar-interrupted, .progress-bar-interrupted::-webkit-progress-bar {\n",
       "        background: #F44336;\n",
       "    }\n",
       "</style>\n"
      ],
      "text/plain": [
       "<IPython.core.display.HTML object>"
      ]
     },
     "metadata": {},
     "output_type": "display_data"
    },
    {
     "data": {
      "text/html": [],
      "text/plain": [
       "<IPython.core.display.HTML object>"
      ]
     },
     "metadata": {},
     "output_type": "display_data"
    },
    {
     "data": {
      "text/html": [
       "\n",
       "<style>\n",
       "    /* Turns off some styling */\n",
       "    progress {\n",
       "        /* gets rid of default border in Firefox and Opera. */\n",
       "        border: none;\n",
       "        /* Needs to be in here for Safari polyfill so background images work as expected. */\n",
       "        background-size: auto;\n",
       "    }\n",
       "    .progress-bar-interrupted, .progress-bar-interrupted::-webkit-progress-bar {\n",
       "        background: #F44336;\n",
       "    }\n",
       "</style>\n"
      ],
      "text/plain": [
       "<IPython.core.display.HTML object>"
      ]
     },
     "metadata": {},
     "output_type": "display_data"
    },
    {
     "data": {
      "text/html": [],
      "text/plain": [
       "<IPython.core.display.HTML object>"
      ]
     },
     "metadata": {},
     "output_type": "display_data"
    },
    {
     "data": {
      "text/html": [
       "\n",
       "<style>\n",
       "    /* Turns off some styling */\n",
       "    progress {\n",
       "        /* gets rid of default border in Firefox and Opera. */\n",
       "        border: none;\n",
       "        /* Needs to be in here for Safari polyfill so background images work as expected. */\n",
       "        background-size: auto;\n",
       "    }\n",
       "    .progress-bar-interrupted, .progress-bar-interrupted::-webkit-progress-bar {\n",
       "        background: #F44336;\n",
       "    }\n",
       "</style>\n"
      ],
      "text/plain": [
       "<IPython.core.display.HTML object>"
      ]
     },
     "metadata": {},
     "output_type": "display_data"
    },
    {
     "data": {
      "text/html": [],
      "text/plain": [
       "<IPython.core.display.HTML object>"
      ]
     },
     "metadata": {},
     "output_type": "display_data"
    }
   ],
   "source": [
    "learns = [ensemble() for _ in range(5)]"
   ]
  },
  {
   "cell_type": "markdown",
   "id": "dd770914",
   "metadata": {
    "papermill": {
     "duration": 0.056438,
     "end_time": "2023-07-21T15:11:49.446929",
     "exception": false,
     "start_time": "2023-07-21T15:11:49.390491",
     "status": "completed"
    },
    "tags": []
   },
   "source": [
    "Nós empilhamos essas previsões e tomamos suas previsões médias:"
   ]
  },
  {
   "cell_type": "code",
   "execution_count": 17,
   "id": "a3590c4d",
   "metadata": {
    "execution": {
     "iopub.execute_input": "2023-07-21T15:11:49.566669Z",
     "iopub.status.busy": "2023-07-21T15:11:49.566222Z",
     "iopub.status.idle": "2023-07-21T15:11:49.572778Z",
     "shell.execute_reply": "2023-07-21T15:11:49.571456Z"
    },
    "papermill": {
     "duration": 0.070791,
     "end_time": "2023-07-21T15:11:49.575451",
     "exception": false,
     "start_time": "2023-07-21T15:11:49.504660",
     "status": "completed"
    },
    "tags": []
   },
   "outputs": [],
   "source": [
    "ens_preds = torch.stack(learns).mean(0)"
   ]
  },
  {
   "cell_type": "markdown",
   "id": "0e9510e6",
   "metadata": {
    "papermill": {
     "duration": 0.064837,
     "end_time": "2023-07-21T15:11:49.703425",
     "exception": false,
     "start_time": "2023-07-21T15:11:49.638588",
     "status": "completed"
    },
    "tags": []
   },
   "source": [
    "Por fim, geramos um arquivo de envio, que podemos enviar ao Kaggle depois que o notebook for salvo e executado:"
   ]
  },
  {
   "cell_type": "code",
   "execution_count": 18,
   "id": "af22a0ed",
   "metadata": {
    "execution": {
     "iopub.execute_input": "2023-07-21T15:11:49.824786Z",
     "iopub.status.busy": "2023-07-21T15:11:49.824384Z",
     "iopub.status.idle": "2023-07-21T15:11:49.835878Z",
     "shell.execute_reply": "2023-07-21T15:11:49.834705Z"
    },
    "papermill": {
     "duration": 0.075171,
     "end_time": "2023-07-21T15:11:49.839104",
     "exception": false,
     "start_time": "2023-07-21T15:11:49.763933",
     "status": "completed"
    },
    "tags": []
   },
   "outputs": [],
   "source": [
    "tst_df['Survived'] = (ens_preds[:,1]>0.5).int()\n",
    "sub_df = tst_df[['PassengerId','Survived']]\n",
    "sub_df.to_csv('ens_sub.csv', index=False)"
   ]
  }
 ],
 "metadata": {
  "kernelspec": {
   "display_name": "Python 3",
   "language": "python",
   "name": "python3"
  },
  "language_info": {
   "codemirror_mode": {
    "name": "ipython",
    "version": 3
   },
   "file_extension": ".py",
   "mimetype": "text/x-python",
   "name": "python",
   "nbconvert_exporter": "python",
   "pygments_lexer": "ipython3",
   "version": "3.7.12"
  },
  "papermill": {
   "default_parameters": {},
   "duration": 78.253517,
   "end_time": "2023-07-21T15:11:52.204548",
   "environment_variables": {},
   "exception": null,
   "input_path": "__notebook__.ipynb",
   "output_path": "__notebook__.ipynb",
   "parameters": {},
   "start_time": "2023-07-21T15:10:33.951031",
   "version": "2.3.4"
  }
 },
 "nbformat": 4,
 "nbformat_minor": 5
}
